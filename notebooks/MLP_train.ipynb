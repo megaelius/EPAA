{
 "cells": [
  {
   "cell_type": "code",
   "execution_count": 1,
   "metadata": {},
   "outputs": [],
   "source": [
    "import os\n",
    "import torch\n",
    "import numpy as np \n",
    "import pandas as pd\n",
    "import matplotlib.pyplot as plt\n",
    "from sklearn.model_selection import train_test_split\n",
    "import random\n",
    "%matplotlib inline"
   ]
  },
  {
   "cell_type": "code",
   "execution_count": 2,
   "metadata": {},
   "outputs": [],
   "source": [
    "import torch\n",
    "import torch.nn as nn\n",
    "import torch.nn.functional as F\n",
    "from torch.utils.data import Dataset, DataLoader, random_split, RandomSampler, Subset\n",
    "import glob\n",
    "from tqdm import tqdm"
   ]
  },
  {
   "cell_type": "code",
   "execution_count": 3,
   "metadata": {},
   "outputs": [
    {
     "name": "stdout",
     "output_type": "stream",
     "text": [
      "62917\n"
     ]
    }
   ],
   "source": [
    "predictionDB_path = \"../data/processed/predictionDB.csv\"\n",
    "embeddings_path = './../data/processed/embeddings'\n",
    "n = len(os.listdir(embeddings_path))\n",
    "print(n)"
   ]
  },
  {
   "cell_type": "code",
   "execution_count": 8,
   "metadata": {},
   "outputs": [
    {
     "data": {
      "image/png": "[encoded data removed]",
      "text/plain": [
       "<Figure size 432x288 with 1 Axes>"
      ]
     },
     "metadata": {
      "needs_background": "light"
     },
     "output_type": "display_data"
    }
   ],
   "source": [
    "df = pd.read_csv(predictionDB_path,lineterminator='\\n')\n",
    "plt.hist(df['inc_complexity'],bi)\n",
    "plt.show()"
   ]
  },
  {
   "cell_type": "code",
   "execution_count": 5,
   "metadata": {},
   "outputs": [],
   "source": [
    "class commits_dataset(Dataset):\n",
    "    def __init__(self, csv_path, embeddings_path):\n",
    "        self.df = pd.read_csv(csv_path,lineterminator='\\n')\n",
    "        self.hashes = list(self.df['COMMIT_HASH'])\n",
    "        self.embeddings_path = embeddings_path\n",
    "        self.embeddings = [np.load(os.path.join(self.embeddings_path,h + '.npy')) for h in self.hashes]\n",
    "\n",
    "    def __len__(self):\n",
    "        return len(self.hashes)\n",
    "    \n",
    "    def __getitem__(self, index):\n",
    "        h = self.hashes[index]\n",
    "        target = self.df[self.df['COMMIT_HASH'] == h][['inc_complexity','inc_violations','inc_development_cost']].values.tolist()[0]\n",
    "        #embedding = np.load(os.path.join(self.embeddings_path,h + '.npy'))\n",
    "        embedding = self.embeddings[index]\n",
    "        return torch.Tensor(embedding),torch.Tensor(target)"
   ]
  },
  {
   "cell_type": "code",
   "execution_count": 6,
   "metadata": {},
   "outputs": [
    {
     "name": "stdout",
     "output_type": "stream",
     "text": [
      "(tensor([-4.0313e-02, -6.6366e-02, -5.1735e-02,  2.4362e-02,  4.0410e-02,\n",
      "        -2.7705e-02, -2.7166e-02, -4.4240e-02,  4.9759e-02,  3.5624e-02,\n",
      "         6.3411e-02, -3.5625e-03, -2.2959e-02,  5.4037e-02, -5.6240e-02,\n",
      "         1.9618e-02, -4.3970e-02,  3.9387e-02,  1.2992e-01,  2.6584e-02,\n",
      "        -7.3223e-02,  4.6072e-02,  6.8889e-02, -2.1015e-02,  2.9225e-02,\n",
      "        -4.1458e-02,  1.0940e-03, -1.9866e-02, -2.0389e-02, -2.5116e-02,\n",
      "         8.5465e-02,  4.3531e-02,  5.7475e-02,  8.9396e-03,  3.1516e-02,\n",
      "         8.3989e-02,  2.2156e-02,  4.1516e-03, -8.4352e-02,  2.6857e-02,\n",
      "         2.2828e-02,  9.0680e-03,  9.8129e-02, -8.4019e-02, -4.7411e-02,\n",
      "        -2.4661e-02,  6.2156e-02, -6.8943e-02,  1.6391e-02,  4.7138e-02,\n",
      "        -4.0025e-02, -1.2615e-01,  1.1359e-02, -5.6300e-02,  1.3397e-03,\n",
      "        -5.9593e-02,  3.1456e-02,  5.2028e-02, -1.0756e-02, -8.7353e-02,\n",
      "         2.5061e-02,  3.7149e-03, -5.1581e-02, -8.3558e-02, -4.0749e-02,\n",
      "        -1.8906e-02,  1.5661e-02,  9.2224e-03,  3.7573e-02, -4.4282e-02,\n",
      "         6.3646e-02,  1.1995e-02, -4.7099e-02, -1.1210e-01,  4.4663e-03,\n",
      "         1.1304e-01,  4.2557e-02,  7.3011e-02,  6.6815e-02, -3.8210e-02,\n",
      "         4.7829e-02,  5.5104e-02,  7.0319e-03, -2.6222e-02, -4.2956e-02,\n",
      "         4.7377e-02,  3.7984e-02,  7.2963e-02,  5.0129e-02,  1.0703e-01,\n",
      "        -3.1085e-02, -2.1149e-02, -5.6128e-02, -4.7093e-02, -2.5941e-02,\n",
      "        -2.5158e-02,  6.2953e-02,  1.0495e-01,  2.0538e-02,  1.8812e-02,\n",
      "         2.9858e-02,  2.7331e-02,  8.3907e-03,  3.0528e-03,  3.5125e-02,\n",
      "         6.9696e-02, -3.3289e-02,  4.6837e-02,  5.5531e-02, -2.6361e-02,\n",
      "         1.4475e-02,  1.3391e-02, -4.4129e-02, -1.0006e-01, -7.5600e-03,\n",
      "         4.1429e-02,  3.9749e-02, -4.5297e-03, -4.9684e-02, -4.4921e-02,\n",
      "        -7.0197e-02, -2.7726e-04, -1.2592e-02, -3.9445e-02, -3.9131e-02,\n",
      "         1.0420e-01, -1.2099e-01,  3.3264e-33,  6.8741e-02,  2.3422e-02,\n",
      "        -5.0724e-02,  5.7842e-03,  1.7298e-02, -7.5385e-02, -5.5831e-02,\n",
      "        -1.1624e-01,  2.0722e-02, -7.0558e-02, -1.9236e-02, -7.0939e-02,\n",
      "        -2.0240e-02, -1.9807e-02, -7.4102e-02, -9.5570e-02,  3.1544e-02,\n",
      "        -2.6405e-02, -1.4240e-02, -3.4103e-02, -7.1460e-02, -8.5925e-02,\n",
      "        -5.8088e-02, -4.4010e-02,  6.6651e-02,  5.5096e-02,  7.2937e-02,\n",
      "         1.0854e-02,  5.4067e-03, -2.0020e-02,  5.5797e-02,  9.7018e-03,\n",
      "         2.3360e-02,  2.4614e-02,  1.2092e-04, -1.7381e-02, -4.9019e-02,\n",
      "         2.1056e-02, -7.3835e-02, -3.2370e-02,  4.0692e-02, -1.6706e-02,\n",
      "        -4.5872e-03, -1.9378e-02,  1.0574e-01, -8.0217e-02,  2.1035e-02,\n",
      "         6.4307e-03,  1.2447e-01,  2.5001e-03, -6.5462e-04, -1.5649e-02,\n",
      "        -6.5897e-03, -4.2892e-02,  1.3052e-03,  4.8945e-02, -5.2157e-03,\n",
      "         6.1714e-02,  1.7525e-02, -2.5296e-03, -2.8849e-02,  2.1350e-02,\n",
      "        -6.0800e-03,  8.8557e-03,  3.4741e-02,  1.7034e-02, -1.3763e-02,\n",
      "         1.0589e-02,  9.5305e-02,  4.6140e-02,  8.4137e-02,  9.2592e-03,\n",
      "         1.6871e-02,  7.7831e-04, -3.9604e-03, -5.2563e-02,  8.0818e-02,\n",
      "         9.6938e-02,  3.8328e-02,  5.3068e-02, -9.2335e-02, -1.5359e-02,\n",
      "         9.4777e-04, -1.2660e-02, -2.4749e-03,  7.1197e-02,  5.6321e-02,\n",
      "         4.2319e-02, -3.4563e-02, -2.7214e-02,  5.7122e-02,  2.8621e-03,\n",
      "        -1.3578e-02,  1.1575e-02, -5.7765e-02, -3.6421e-33, -1.5963e-02,\n",
      "        -3.3988e-02, -2.3718e-03, -3.4844e-02, -7.0452e-02, -2.7596e-02,\n",
      "        -5.9878e-02,  2.1560e-02, -7.5616e-02, -3.9138e-02, -5.5249e-04,\n",
      "        -3.7723e-02,  3.3910e-02, -5.2104e-02,  8.0002e-02,  3.5457e-03,\n",
      "         4.3698e-03, -2.3576e-02,  7.7932e-02,  6.8736e-02,  4.1283e-02,\n",
      "         5.3237e-02, -3.5666e-03,  6.0185e-02,  2.3885e-02, -7.4617e-02,\n",
      "         7.3882e-02,  1.1026e-02, -7.4769e-03, -9.1276e-02,  1.0794e-02,\n",
      "        -2.4200e-02, -9.8847e-02, -5.4528e-02, -1.3100e-02,  1.1376e-02,\n",
      "         3.0779e-02,  9.4778e-02, -6.5244e-02,  1.0264e-01,  7.2061e-03,\n",
      "         6.6999e-03, -1.2857e-01,  3.6227e-02, -4.7937e-02,  2.1477e-02,\n",
      "         5.0975e-02,  5.7912e-02,  1.5532e-02,  2.3621e-02, -6.7448e-03,\n",
      "        -1.9730e-02,  5.4092e-02, -3.9256e-02,  6.3536e-02,  2.3552e-02,\n",
      "         7.0210e-03,  1.0853e-01,  1.8288e-02,  2.5927e-03, -4.4873e-03,\n",
      "        -8.3300e-02, -4.1448e-02,  5.0802e-02, -8.2529e-03,  1.7604e-02,\n",
      "        -7.7041e-02, -2.7735e-02, -5.7180e-02, -7.3969e-02, -1.8333e-02,\n",
      "         3.2035e-02,  2.1793e-02, -6.3632e-02,  8.1627e-02, -1.0618e-01,\n",
      "        -3.1911e-02,  7.5264e-02,  3.5477e-02, -3.0946e-02, -2.1605e-02,\n",
      "         6.7330e-03, -8.8801e-03, -3.7063e-02,  3.2885e-02,  4.7260e-03,\n",
      "         4.3013e-02,  1.3715e-02, -1.1052e-02,  2.3065e-02,  3.5528e-02,\n",
      "        -2.5595e-02,  7.4660e-03, -1.8779e-02,  1.4476e-02, -4.0071e-08,\n",
      "         4.7309e-02,  5.2701e-02, -5.9155e-02, -6.4867e-02,  1.4921e-01,\n",
      "         9.4695e-03, -3.0560e-02,  8.6238e-02, -4.5487e-02,  4.8566e-02,\n",
      "        -1.2722e-02,  5.6497e-02, -5.6099e-02,  2.1114e-02,  1.6663e-03,\n",
      "        -5.0154e-02, -5.7847e-03,  4.3064e-02, -2.7661e-02,  2.8195e-03,\n",
      "        -4.4459e-02, -4.3188e-02,  1.2067e-04,  5.5698e-02,  3.7813e-02,\n",
      "         2.2705e-02,  1.8431e-02,  3.3336e-02,  3.3873e-03, -6.9053e-02,\n",
      "         1.6353e-02,  4.5745e-02, -1.5668e-01, -1.0155e-01,  9.9199e-03,\n",
      "        -1.6115e-02,  6.4091e-02, -2.6644e-02,  6.6642e-02,  1.3320e-02,\n",
      "        -6.1413e-02, -3.3739e-02,  4.0363e-02,  1.8654e-02, -1.6898e-01,\n",
      "         6.9545e-02,  1.4558e-02, -1.0162e-02, -4.9162e-02, -3.6236e-02,\n",
      "         2.0358e-02, -5.7184e-02,  3.0346e-02, -2.7957e-02,  1.1059e-02,\n",
      "         6.2812e-02,  1.3249e-01, -1.0843e-02,  4.5036e-02, -8.8154e-04,\n",
      "         4.6072e-02, -1.4818e-02,  4.4373e-03, -7.6164e-02]), tensor([0., 0., 0.]))\n"
     ]
    }
   ],
   "source": [
    "dataset = commits_dataset(predictionDB_path,embeddings_path)\n",
    "print(dataset[0])"
   ]
  },
  {
   "cell_type": "code",
   "execution_count": 7,
   "metadata": {},
   "outputs": [],
   "source": [
    "bs = 32\n",
    "num_workers = 2\n",
    "\n",
    "n=len(dataset)\n",
    "n_train = int(n*0.7)\n",
    "n_valid = n-n_train\n",
    "\n",
    "'''\n",
    "Use first 70% of data as training and last 30% as validation\n",
    "'''\n",
    "train_sample, valid_sample = Subset(dataset, range(n_train)), Subset(dataset, range(n_train,n))\n",
    "train_sampler = RandomSampler(train_sample)\n",
    "valid_sampler = RandomSampler(valid_sample)\n",
    "train_loader = DataLoader(train_sample, sampler = train_sampler, batch_size=bs, num_workers = num_workers)\n",
    "valid_loader = DataLoader(valid_sample, sampler = valid_sampler, batch_size=bs, num_workers = num_workers)\n"
   ]
  },
  {
   "cell_type": "code",
   "execution_count": 8,
   "metadata": {},
   "outputs": [],
   "source": [
    "#predictionDB[\"is_valid\"] = np.zeros(len(predictionDB))\n",
    "#for i in range(len(predictionDB[\"is_valid\"])):\n",
    "#    predictionDB[\"is_valid\"][i] = 1 if random.random()<0.2 else 0 "
   ]
  },
  {
   "cell_type": "code",
   "execution_count": 9,
   "metadata": {
    "scrolled": false
   },
   "outputs": [],
   "source": [
    "#from fastai.text.all import *\n",
    "#dls = TextDataLoaders.from_df(predictionDB, text_col='COMMIT_MESSAGE', label_col='inc_complexity', valid_col='is_valid')\n",
    "#dls.show_batch(max_n=3)"
   ]
  },
  {
   "cell_type": "code",
   "execution_count": null,
   "metadata": {},
   "outputs": [],
   "source": []
  },
  {
   "cell_type": "code",
   "execution_count": null,
   "metadata": {},
   "outputs": [],
   "source": []
  },
  {
   "cell_type": "code",
   "execution_count": 10,
   "metadata": {},
   "outputs": [],
   "source": [
    "# Multilayer perceptron\n",
    "class MultilayerPerceptron(nn.Module):\n",
    "    def __init__(self):\n",
    "        super().__init__()\n",
    "        self.lin1 = nn.Linear(384, 1024, bias=True) \n",
    "        self.lin2 = nn.Linear(1024, 120, bias=True)\n",
    "        self.lin3 = nn.Linear(120, 3, bias=True)\n",
    "\n",
    "    def forward(self, xb):\n",
    "        x = xb.float()\n",
    "        #x = xb.view(250, -1)\n",
    "        x = F.relu(self.lin1(x))\n",
    "        x = F.relu(self.lin2(x))\n",
    "        return self.lin3(x)"
   ]
  },
  {
   "cell_type": "code",
   "execution_count": 11,
   "metadata": {},
   "outputs": [],
   "source": [
    "#mlp_learner = Learner(data=data, model=MultilayerPerceptron(), loss_func=nn.CrossEntropyLoss(),metrics=accuracy)\n",
    "#mlp_learner.fine_tune(20)"
   ]
  },
  {
   "cell_type": "code",
   "execution_count": 12,
   "metadata": {},
   "outputs": [
    {
     "name": "stdout",
     "output_type": "stream",
     "text": [
      "MultilayerPerceptron(\n",
      "  (lin1): Linear(in_features=384, out_features=1024, bias=True)\n",
      "  (lin2): Linear(in_features=1024, out_features=120, bias=True)\n",
      "  (lin3): Linear(in_features=120, out_features=3, bias=True)\n",
      ")\n"
     ]
    }
   ],
   "source": [
    "model = MultilayerPerceptron()\n",
    "print(model)"
   ]
  },
  {
   "cell_type": "code",
   "execution_count": 13,
   "metadata": {},
   "outputs": [],
   "source": [
    "optimizer = torch.optim.Adam(model.parameters(), lr=0.0001)\n",
    "loss_fn = nn.MSELoss()"
   ]
  },
  {
   "cell_type": "code",
   "execution_count": 14,
   "metadata": {
    "scrolled": false
   },
   "outputs": [
    {
     "name": "stderr",
     "output_type": "stream",
     "text": [
      "1377it [02:11, 10.48it/s]\n"
     ]
    },
    {
     "name": "stdout",
     "output_type": "stream",
     "text": [
      "epoch : 1, train loss : 526142829.8855, valid loss : 5443340899.9081\n"
     ]
    },
    {
     "name": "stderr",
     "output_type": "stream",
     "text": [
      "1377it [02:08, 10.75it/s]\n"
     ]
    },
    {
     "name": "stdout",
     "output_type": "stream",
     "text": [
      "epoch : 2, train loss : 526115404.6142, valid loss : 5443233784.8352\n"
     ]
    },
    {
     "name": "stderr",
     "output_type": "stream",
     "text": [
      "1377it [02:04, 11.02it/s]\n"
     ]
    },
    {
     "name": "stdout",
     "output_type": "stream",
     "text": [
      "epoch : 3, train loss : 526072666.5506, valid loss : 5443541563.0400\n"
     ]
    },
    {
     "name": "stderr",
     "output_type": "stream",
     "text": [
      "1377it [02:11, 10.50it/s]\n"
     ]
    },
    {
     "name": "stdout",
     "output_type": "stream",
     "text": [
      "epoch : 4, train loss : 526007670.3603, valid loss : 5443014960.4090\n"
     ]
    },
    {
     "name": "stderr",
     "output_type": "stream",
     "text": [
      "339it [00:32, 10.28it/s]\n"
     ]
    },
    {
     "ename": "KeyboardInterrupt",
     "evalue": "",
     "output_type": "error",
     "traceback": [
      "\u001b[0;31m---------------------------------------------------------------------------\u001b[0m",
      "\u001b[0;31mKeyboardInterrupt\u001b[0m                         Traceback (most recent call last)",
      "\u001b[0;32m<ipython-input-14-aa35587353b6>\u001b[0m in \u001b[0;36m<module>\u001b[0;34m\u001b[0m\n\u001b[1;32m      9\u001b[0m     \u001b[0mtrain_losses\u001b[0m \u001b[0;34m=\u001b[0m \u001b[0;34m[\u001b[0m\u001b[0;34m]\u001b[0m\u001b[0;34m\u001b[0m\u001b[0;34m\u001b[0m\u001b[0m\n\u001b[1;32m     10\u001b[0m     \u001b[0mvalid_losses\u001b[0m \u001b[0;34m=\u001b[0m \u001b[0;34m[\u001b[0m\u001b[0;34m]\u001b[0m\u001b[0;34m\u001b[0m\u001b[0;34m\u001b[0m\u001b[0m\n\u001b[0;32m---> 11\u001b[0;31m     \u001b[0;32mfor\u001b[0m \u001b[0mi\u001b[0m\u001b[0;34m,\u001b[0m \u001b[0;34m(\u001b[0m\u001b[0membeddings\u001b[0m\u001b[0;34m,\u001b[0m \u001b[0mlabels\u001b[0m\u001b[0;34m)\u001b[0m \u001b[0;32min\u001b[0m \u001b[0mtqdm\u001b[0m\u001b[0;34m(\u001b[0m\u001b[0menumerate\u001b[0m\u001b[0;34m(\u001b[0m\u001b[0mtrain_loader\u001b[0m\u001b[0;34m)\u001b[0m\u001b[0;34m)\u001b[0m\u001b[0;34m:\u001b[0m\u001b[0;34m\u001b[0m\u001b[0;34m\u001b[0m\u001b[0m\n\u001b[0m\u001b[1;32m     12\u001b[0m \u001b[0;34m\u001b[0m\u001b[0m\n\u001b[1;32m     13\u001b[0m         \u001b[0moptimizer\u001b[0m\u001b[0;34m.\u001b[0m\u001b[0mzero_grad\u001b[0m\u001b[0;34m(\u001b[0m\u001b[0;34m)\u001b[0m\u001b[0;34m\u001b[0m\u001b[0;34m\u001b[0m\u001b[0m\n",
      "\u001b[0;32m~/.local/lib/python3.8/site-packages/tqdm/std.py\u001b[0m in \u001b[0;36m__iter__\u001b[0;34m(self)\u001b[0m\n\u001b[1;32m   1176\u001b[0m \u001b[0;34m\u001b[0m\u001b[0m\n\u001b[1;32m   1177\u001b[0m         \u001b[0;32mtry\u001b[0m\u001b[0;34m:\u001b[0m\u001b[0;34m\u001b[0m\u001b[0;34m\u001b[0m\u001b[0m\n\u001b[0;32m-> 1178\u001b[0;31m             \u001b[0;32mfor\u001b[0m \u001b[0mobj\u001b[0m \u001b[0;32min\u001b[0m \u001b[0miterable\u001b[0m\u001b[0;34m:\u001b[0m\u001b[0;34m\u001b[0m\u001b[0;34m\u001b[0m\u001b[0m\n\u001b[0m\u001b[1;32m   1179\u001b[0m                 \u001b[0;32myield\u001b[0m \u001b[0mobj\u001b[0m\u001b[0;34m\u001b[0m\u001b[0;34m\u001b[0m\u001b[0m\n\u001b[1;32m   1180\u001b[0m                 \u001b[0;31m# Update and possibly print the progressbar.\u001b[0m\u001b[0;34m\u001b[0m\u001b[0;34m\u001b[0m\u001b[0;34m\u001b[0m\u001b[0m\n",
      "\u001b[0;32m~/.local/lib/python3.8/site-packages/torch/utils/data/dataloader.py\u001b[0m in \u001b[0;36m__next__\u001b[0;34m(self)\u001b[0m\n\u001b[1;32m    433\u001b[0m         \u001b[0;32mif\u001b[0m \u001b[0mself\u001b[0m\u001b[0;34m.\u001b[0m\u001b[0m_sampler_iter\u001b[0m \u001b[0;32mis\u001b[0m \u001b[0;32mNone\u001b[0m\u001b[0;34m:\u001b[0m\u001b[0;34m\u001b[0m\u001b[0;34m\u001b[0m\u001b[0m\n\u001b[1;32m    434\u001b[0m             \u001b[0mself\u001b[0m\u001b[0;34m.\u001b[0m\u001b[0m_reset\u001b[0m\u001b[0;34m(\u001b[0m\u001b[0;34m)\u001b[0m\u001b[0;34m\u001b[0m\u001b[0;34m\u001b[0m\u001b[0m\n\u001b[0;32m--> 435\u001b[0;31m         \u001b[0mdata\u001b[0m \u001b[0;34m=\u001b[0m \u001b[0mself\u001b[0m\u001b[0;34m.\u001b[0m\u001b[0m_next_data\u001b[0m\u001b[0;34m(\u001b[0m\u001b[0;34m)\u001b[0m\u001b[0;34m\u001b[0m\u001b[0;34m\u001b[0m\u001b[0m\n\u001b[0m\u001b[1;32m    436\u001b[0m         \u001b[0mself\u001b[0m\u001b[0;34m.\u001b[0m\u001b[0m_num_yielded\u001b[0m \u001b[0;34m+=\u001b[0m \u001b[0;36m1\u001b[0m\u001b[0;34m\u001b[0m\u001b[0;34m\u001b[0m\u001b[0m\n\u001b[1;32m    437\u001b[0m         \u001b[0;32mif\u001b[0m \u001b[0mself\u001b[0m\u001b[0;34m.\u001b[0m\u001b[0m_dataset_kind\u001b[0m \u001b[0;34m==\u001b[0m \u001b[0m_DatasetKind\u001b[0m\u001b[0;34m.\u001b[0m\u001b[0mIterable\u001b[0m \u001b[0;32mand\u001b[0m\u001b[0;31m \u001b[0m\u001b[0;31m\\\u001b[0m\u001b[0;34m\u001b[0m\u001b[0;34m\u001b[0m\u001b[0m\n",
      "\u001b[0;32m~/.local/lib/python3.8/site-packages/torch/utils/data/dataloader.py\u001b[0m in \u001b[0;36m_next_data\u001b[0;34m(self)\u001b[0m\n\u001b[1;32m   1066\u001b[0m \u001b[0;34m\u001b[0m\u001b[0m\n\u001b[1;32m   1067\u001b[0m             \u001b[0;32massert\u001b[0m \u001b[0;32mnot\u001b[0m \u001b[0mself\u001b[0m\u001b[0;34m.\u001b[0m\u001b[0m_shutdown\u001b[0m \u001b[0;32mand\u001b[0m \u001b[0mself\u001b[0m\u001b[0;34m.\u001b[0m\u001b[0m_tasks_outstanding\u001b[0m \u001b[0;34m>\u001b[0m \u001b[0;36m0\u001b[0m\u001b[0;34m\u001b[0m\u001b[0;34m\u001b[0m\u001b[0m\n\u001b[0;32m-> 1068\u001b[0;31m             \u001b[0midx\u001b[0m\u001b[0;34m,\u001b[0m \u001b[0mdata\u001b[0m \u001b[0;34m=\u001b[0m \u001b[0mself\u001b[0m\u001b[0;34m.\u001b[0m\u001b[0m_get_data\u001b[0m\u001b[0;34m(\u001b[0m\u001b[0;34m)\u001b[0m\u001b[0;34m\u001b[0m\u001b[0;34m\u001b[0m\u001b[0m\n\u001b[0m\u001b[1;32m   1069\u001b[0m             \u001b[0mself\u001b[0m\u001b[0;34m.\u001b[0m\u001b[0m_tasks_outstanding\u001b[0m \u001b[0;34m-=\u001b[0m \u001b[0;36m1\u001b[0m\u001b[0;34m\u001b[0m\u001b[0;34m\u001b[0m\u001b[0m\n\u001b[1;32m   1070\u001b[0m             \u001b[0;32mif\u001b[0m \u001b[0mself\u001b[0m\u001b[0;34m.\u001b[0m\u001b[0m_dataset_kind\u001b[0m \u001b[0;34m==\u001b[0m \u001b[0m_DatasetKind\u001b[0m\u001b[0;34m.\u001b[0m\u001b[0mIterable\u001b[0m\u001b[0;34m:\u001b[0m\u001b[0;34m\u001b[0m\u001b[0;34m\u001b[0m\u001b[0m\n",
      "\u001b[0;32m~/.local/lib/python3.8/site-packages/torch/utils/data/dataloader.py\u001b[0m in \u001b[0;36m_get_data\u001b[0;34m(self)\u001b[0m\n\u001b[1;32m   1032\u001b[0m         \u001b[0;32melse\u001b[0m\u001b[0;34m:\u001b[0m\u001b[0;34m\u001b[0m\u001b[0;34m\u001b[0m\u001b[0m\n\u001b[1;32m   1033\u001b[0m             \u001b[0;32mwhile\u001b[0m \u001b[0;32mTrue\u001b[0m\u001b[0;34m:\u001b[0m\u001b[0;34m\u001b[0m\u001b[0;34m\u001b[0m\u001b[0m\n\u001b[0;32m-> 1034\u001b[0;31m                 \u001b[0msuccess\u001b[0m\u001b[0;34m,\u001b[0m \u001b[0mdata\u001b[0m \u001b[0;34m=\u001b[0m \u001b[0mself\u001b[0m\u001b[0;34m.\u001b[0m\u001b[0m_try_get_data\u001b[0m\u001b[0;34m(\u001b[0m\u001b[0;34m)\u001b[0m\u001b[0;34m\u001b[0m\u001b[0;34m\u001b[0m\u001b[0m\n\u001b[0m\u001b[1;32m   1035\u001b[0m                 \u001b[0;32mif\u001b[0m \u001b[0msuccess\u001b[0m\u001b[0;34m:\u001b[0m\u001b[0;34m\u001b[0m\u001b[0;34m\u001b[0m\u001b[0m\n\u001b[1;32m   1036\u001b[0m                     \u001b[0;32mreturn\u001b[0m \u001b[0mdata\u001b[0m\u001b[0;34m\u001b[0m\u001b[0;34m\u001b[0m\u001b[0m\n",
      "\u001b[0;32m~/.local/lib/python3.8/site-packages/torch/utils/data/dataloader.py\u001b[0m in \u001b[0;36m_try_get_data\u001b[0;34m(self, timeout)\u001b[0m\n\u001b[1;32m    870\u001b[0m         \u001b[0;31m#   (bool: whether successfully get data, any: data if successful else None)\u001b[0m\u001b[0;34m\u001b[0m\u001b[0;34m\u001b[0m\u001b[0;34m\u001b[0m\u001b[0m\n\u001b[1;32m    871\u001b[0m         \u001b[0;32mtry\u001b[0m\u001b[0;34m:\u001b[0m\u001b[0;34m\u001b[0m\u001b[0;34m\u001b[0m\u001b[0m\n\u001b[0;32m--> 872\u001b[0;31m             \u001b[0mdata\u001b[0m \u001b[0;34m=\u001b[0m \u001b[0mself\u001b[0m\u001b[0;34m.\u001b[0m\u001b[0m_data_queue\u001b[0m\u001b[0;34m.\u001b[0m\u001b[0mget\u001b[0m\u001b[0;34m(\u001b[0m\u001b[0mtimeout\u001b[0m\u001b[0;34m=\u001b[0m\u001b[0mtimeout\u001b[0m\u001b[0;34m)\u001b[0m\u001b[0;34m\u001b[0m\u001b[0;34m\u001b[0m\u001b[0m\n\u001b[0m\u001b[1;32m    873\u001b[0m             \u001b[0;32mreturn\u001b[0m \u001b[0;34m(\u001b[0m\u001b[0;32mTrue\u001b[0m\u001b[0;34m,\u001b[0m \u001b[0mdata\u001b[0m\u001b[0;34m)\u001b[0m\u001b[0;34m\u001b[0m\u001b[0;34m\u001b[0m\u001b[0m\n\u001b[1;32m    874\u001b[0m         \u001b[0;32mexcept\u001b[0m \u001b[0mException\u001b[0m \u001b[0;32mas\u001b[0m \u001b[0me\u001b[0m\u001b[0;34m:\u001b[0m\u001b[0;34m\u001b[0m\u001b[0;34m\u001b[0m\u001b[0m\n",
      "\u001b[0;32m/usr/lib/python3.8/multiprocessing/queues.py\u001b[0m in \u001b[0;36mget\u001b[0;34m(self, block, timeout)\u001b[0m\n\u001b[1;32m    105\u001b[0m                 \u001b[0;32mif\u001b[0m \u001b[0mblock\u001b[0m\u001b[0;34m:\u001b[0m\u001b[0;34m\u001b[0m\u001b[0;34m\u001b[0m\u001b[0m\n\u001b[1;32m    106\u001b[0m                     \u001b[0mtimeout\u001b[0m \u001b[0;34m=\u001b[0m \u001b[0mdeadline\u001b[0m \u001b[0;34m-\u001b[0m \u001b[0mtime\u001b[0m\u001b[0;34m.\u001b[0m\u001b[0mmonotonic\u001b[0m\u001b[0;34m(\u001b[0m\u001b[0;34m)\u001b[0m\u001b[0;34m\u001b[0m\u001b[0;34m\u001b[0m\u001b[0m\n\u001b[0;32m--> 107\u001b[0;31m                     \u001b[0;32mif\u001b[0m \u001b[0;32mnot\u001b[0m \u001b[0mself\u001b[0m\u001b[0;34m.\u001b[0m\u001b[0m_poll\u001b[0m\u001b[0;34m(\u001b[0m\u001b[0mtimeout\u001b[0m\u001b[0;34m)\u001b[0m\u001b[0;34m:\u001b[0m\u001b[0;34m\u001b[0m\u001b[0;34m\u001b[0m\u001b[0m\n\u001b[0m\u001b[1;32m    108\u001b[0m                         \u001b[0;32mraise\u001b[0m \u001b[0mEmpty\u001b[0m\u001b[0;34m\u001b[0m\u001b[0;34m\u001b[0m\u001b[0m\n\u001b[1;32m    109\u001b[0m                 \u001b[0;32melif\u001b[0m \u001b[0;32mnot\u001b[0m \u001b[0mself\u001b[0m\u001b[0;34m.\u001b[0m\u001b[0m_poll\u001b[0m\u001b[0;34m(\u001b[0m\u001b[0;34m)\u001b[0m\u001b[0;34m:\u001b[0m\u001b[0;34m\u001b[0m\u001b[0;34m\u001b[0m\u001b[0m\n",
      "\u001b[0;32m/usr/lib/python3.8/multiprocessing/connection.py\u001b[0m in \u001b[0;36mpoll\u001b[0;34m(self, timeout)\u001b[0m\n\u001b[1;32m    255\u001b[0m         \u001b[0mself\u001b[0m\u001b[0;34m.\u001b[0m\u001b[0m_check_closed\u001b[0m\u001b[0;34m(\u001b[0m\u001b[0;34m)\u001b[0m\u001b[0;34m\u001b[0m\u001b[0;34m\u001b[0m\u001b[0m\n\u001b[1;32m    256\u001b[0m         \u001b[0mself\u001b[0m\u001b[0;34m.\u001b[0m\u001b[0m_check_readable\u001b[0m\u001b[0;34m(\u001b[0m\u001b[0;34m)\u001b[0m\u001b[0;34m\u001b[0m\u001b[0;34m\u001b[0m\u001b[0m\n\u001b[0;32m--> 257\u001b[0;31m         \u001b[0;32mreturn\u001b[0m \u001b[0mself\u001b[0m\u001b[0;34m.\u001b[0m\u001b[0m_poll\u001b[0m\u001b[0;34m(\u001b[0m\u001b[0mtimeout\u001b[0m\u001b[0;34m)\u001b[0m\u001b[0;34m\u001b[0m\u001b[0;34m\u001b[0m\u001b[0m\n\u001b[0m\u001b[1;32m    258\u001b[0m \u001b[0;34m\u001b[0m\u001b[0m\n\u001b[1;32m    259\u001b[0m     \u001b[0;32mdef\u001b[0m \u001b[0m__enter__\u001b[0m\u001b[0;34m(\u001b[0m\u001b[0mself\u001b[0m\u001b[0;34m)\u001b[0m\u001b[0;34m:\u001b[0m\u001b[0;34m\u001b[0m\u001b[0;34m\u001b[0m\u001b[0m\n",
      "\u001b[0;32m/usr/lib/python3.8/multiprocessing/connection.py\u001b[0m in \u001b[0;36m_poll\u001b[0;34m(self, timeout)\u001b[0m\n\u001b[1;32m    422\u001b[0m \u001b[0;34m\u001b[0m\u001b[0m\n\u001b[1;32m    423\u001b[0m     \u001b[0;32mdef\u001b[0m \u001b[0m_poll\u001b[0m\u001b[0;34m(\u001b[0m\u001b[0mself\u001b[0m\u001b[0;34m,\u001b[0m \u001b[0mtimeout\u001b[0m\u001b[0;34m)\u001b[0m\u001b[0;34m:\u001b[0m\u001b[0;34m\u001b[0m\u001b[0;34m\u001b[0m\u001b[0m\n\u001b[0;32m--> 424\u001b[0;31m         \u001b[0mr\u001b[0m \u001b[0;34m=\u001b[0m \u001b[0mwait\u001b[0m\u001b[0;34m(\u001b[0m\u001b[0;34m[\u001b[0m\u001b[0mself\u001b[0m\u001b[0;34m]\u001b[0m\u001b[0;34m,\u001b[0m \u001b[0mtimeout\u001b[0m\u001b[0;34m)\u001b[0m\u001b[0;34m\u001b[0m\u001b[0;34m\u001b[0m\u001b[0m\n\u001b[0m\u001b[1;32m    425\u001b[0m         \u001b[0;32mreturn\u001b[0m \u001b[0mbool\u001b[0m\u001b[0;34m(\u001b[0m\u001b[0mr\u001b[0m\u001b[0;34m)\u001b[0m\u001b[0;34m\u001b[0m\u001b[0;34m\u001b[0m\u001b[0m\n\u001b[1;32m    426\u001b[0m \u001b[0;34m\u001b[0m\u001b[0m\n",
      "\u001b[0;32m/usr/lib/python3.8/multiprocessing/connection.py\u001b[0m in \u001b[0;36mwait\u001b[0;34m(object_list, timeout)\u001b[0m\n\u001b[1;32m    929\u001b[0m \u001b[0;34m\u001b[0m\u001b[0m\n\u001b[1;32m    930\u001b[0m             \u001b[0;32mwhile\u001b[0m \u001b[0;32mTrue\u001b[0m\u001b[0;34m:\u001b[0m\u001b[0;34m\u001b[0m\u001b[0;34m\u001b[0m\u001b[0m\n\u001b[0;32m--> 931\u001b[0;31m                 \u001b[0mready\u001b[0m \u001b[0;34m=\u001b[0m \u001b[0mselector\u001b[0m\u001b[0;34m.\u001b[0m\u001b[0mselect\u001b[0m\u001b[0;34m(\u001b[0m\u001b[0mtimeout\u001b[0m\u001b[0;34m)\u001b[0m\u001b[0;34m\u001b[0m\u001b[0;34m\u001b[0m\u001b[0m\n\u001b[0m\u001b[1;32m    932\u001b[0m                 \u001b[0;32mif\u001b[0m \u001b[0mready\u001b[0m\u001b[0;34m:\u001b[0m\u001b[0;34m\u001b[0m\u001b[0;34m\u001b[0m\u001b[0m\n\u001b[1;32m    933\u001b[0m                     \u001b[0;32mreturn\u001b[0m \u001b[0;34m[\u001b[0m\u001b[0mkey\u001b[0m\u001b[0;34m.\u001b[0m\u001b[0mfileobj\u001b[0m \u001b[0;32mfor\u001b[0m \u001b[0;34m(\u001b[0m\u001b[0mkey\u001b[0m\u001b[0;34m,\u001b[0m \u001b[0mevents\u001b[0m\u001b[0;34m)\u001b[0m \u001b[0;32min\u001b[0m \u001b[0mready\u001b[0m\u001b[0;34m]\u001b[0m\u001b[0;34m\u001b[0m\u001b[0;34m\u001b[0m\u001b[0m\n",
      "\u001b[0;32m/usr/lib/python3.8/selectors.py\u001b[0m in \u001b[0;36mselect\u001b[0;34m(self, timeout)\u001b[0m\n\u001b[1;32m    413\u001b[0m         \u001b[0mready\u001b[0m \u001b[0;34m=\u001b[0m \u001b[0;34m[\u001b[0m\u001b[0;34m]\u001b[0m\u001b[0;34m\u001b[0m\u001b[0;34m\u001b[0m\u001b[0m\n\u001b[1;32m    414\u001b[0m         \u001b[0;32mtry\u001b[0m\u001b[0;34m:\u001b[0m\u001b[0;34m\u001b[0m\u001b[0;34m\u001b[0m\u001b[0m\n\u001b[0;32m--> 415\u001b[0;31m             \u001b[0mfd_event_list\u001b[0m \u001b[0;34m=\u001b[0m \u001b[0mself\u001b[0m\u001b[0;34m.\u001b[0m\u001b[0m_selector\u001b[0m\u001b[0;34m.\u001b[0m\u001b[0mpoll\u001b[0m\u001b[0;34m(\u001b[0m\u001b[0mtimeout\u001b[0m\u001b[0;34m)\u001b[0m\u001b[0;34m\u001b[0m\u001b[0;34m\u001b[0m\u001b[0m\n\u001b[0m\u001b[1;32m    416\u001b[0m         \u001b[0;32mexcept\u001b[0m \u001b[0mInterruptedError\u001b[0m\u001b[0;34m:\u001b[0m\u001b[0;34m\u001b[0m\u001b[0;34m\u001b[0m\u001b[0m\n\u001b[1;32m    417\u001b[0m             \u001b[0;32mreturn\u001b[0m \u001b[0mready\u001b[0m\u001b[0;34m\u001b[0m\u001b[0;34m\u001b[0m\u001b[0m\n",
      "\u001b[0;31mKeyboardInterrupt\u001b[0m: "
     ]
    }
   ],
   "source": [
    "mean_train_losses = []\n",
    "mean_valid_losses = []\n",
    "valid_acc_list = []\n",
    "epochs = 15\n",
    "device = torch.device(\"cuda\" if torch.cuda.is_available() else \"cpu\")\n",
    "\n",
    "for epoch in range(epochs):\n",
    "    model.train()\n",
    "    \n",
    "    train_losses = []\n",
    "    valid_losses = []\n",
    "    for i, (embeddings, labels) in tqdm(enumerate(train_loader)):\n",
    "        \n",
    "        embeddings.to(device)\n",
    "        labels.to(device)\n",
    "        optimizer.zero_grad()\n",
    "        \n",
    "        outputs = model(embeddings)\n",
    "        loss = loss_fn(outputs.squeeze(0),labels)\n",
    "        loss.backward()\n",
    "        optimizer.step()\n",
    "        \n",
    "        train_losses.append(loss.item())\n",
    "        \n",
    "            \n",
    "    model.eval()\n",
    "    correct = 0\n",
    "    total = 0\n",
    "    with torch.no_grad():\n",
    "        for i, (embeddings, labels) in tqdm(enumerate(valid_loader)):\n",
    "            outputs = model(embeddings)\n",
    "            loss = loss_fn(outputs.squeeze(0), labels)\n",
    "            \n",
    "            valid_losses.append(loss.item())\n",
    "            \n",
    "            _, predicted = torch.max(outputs.data, 1)\n",
    "            \n",
    "            total += labels.size(0)\n",
    "            \n",
    "    mean_train_losses.append(np.mean(train_losses))\n",
    "    mean_valid_losses.append(np.mean(valid_losses))\n",
    "    print('epoch : {}, train loss : {:.4f}, valid loss : {:.4f}'\\\n",
    "         .format(epoch+1, mean_train_losses[-1], mean_valid_losses[-1]))"
   ]
  },
  {
   "cell_type": "code",
   "execution_count": null,
   "metadata": {},
   "outputs": [],
   "source": []
  },
  {
   "cell_type": "code",
   "execution_count": null,
   "metadata": {},
   "outputs": [],
   "source": []
  },
  {
   "cell_type": "code",
   "execution_count": null,
   "metadata": {},
   "outputs": [],
   "source": []
  }
 ],
 "metadata": {
  "kernelspec": {
   "display_name": "Python 3 (ipykernel)",
   "language": "python",
   "name": "python3"
  },
  "language_info": {
   "codemirror_mode": {
    "name": "ipython",
    "version": 3
   },
   "file_extension": ".py",
   "mimetype": "text/x-python",
   "name": "python",
   "nbconvert_exporter": "python",
   "pygments_lexer": "ipython3",
   "version": "3.8.10"
  }
 },
 "nbformat": 4,
 "nbformat_minor": 4
}
