{
 "cells": [
  {
   "cell_type": "code",
   "execution_count": 1,
   "metadata": {},
   "outputs": [
    {
     "data": {
      "application/vnd.jupyter.widget-view+json": {
       "model_id": "2db3d450c55b4d32af98a051b296f196",
       "version_major": 2,
       "version_minor": 0
      },
      "text/plain": [
       "Downloading:   0%|          | 0.00/1.18k [00:00<?, ?B/s]"
      ]
     },
     "metadata": {},
     "output_type": "display_data"
    },
    {
     "data": {
      "application/vnd.jupyter.widget-view+json": {
       "model_id": "c65dfe0a22274ebfa1ae081a7ee55dcd",
       "version_major": 2,
       "version_minor": 0
      },
      "text/plain": [
       "Downloading:   0%|          | 0.00/10.2k [00:00<?, ?B/s]"
      ]
     },
     "metadata": {},
     "output_type": "display_data"
    },
    {
     "data": {
      "application/vnd.jupyter.widget-view+json": {
       "model_id": "8286b0eddba44347beff5a3865411c0d",
       "version_major": 2,
       "version_minor": 0
      },
      "text/plain": [
       "Downloading:   0%|          | 0.00/612 [00:00<?, ?B/s]"
      ]
     },
     "metadata": {},
     "output_type": "display_data"
    },
    {
     "data": {
      "application/vnd.jupyter.widget-view+json": {
       "model_id": "ef240c72430548e2b81f5aee6fbf72a7",
       "version_major": 2,
       "version_minor": 0
      },
      "text/plain": [
       "Downloading:   0%|          | 0.00/116 [00:00<?, ?B/s]"
      ]
     },
     "metadata": {},
     "output_type": "display_data"
    },
    {
     "data": {
      "application/vnd.jupyter.widget-view+json": {
       "model_id": "f33b3ef5354e417491372b5586d9accd",
       "version_major": 2,
       "version_minor": 0
      },
      "text/plain": [
       "Downloading:   0%|          | 0.00/39.3k [00:00<?, ?B/s]"
      ]
     },
     "metadata": {},
     "output_type": "display_data"
    },
    {
     "data": {
      "application/vnd.jupyter.widget-view+json": {
       "model_id": "c9bde6ff2b844562bc98a2bd2cf3e7f5",
       "version_major": 2,
       "version_minor": 0
      },
      "text/plain": [
       "Downloading:   0%|          | 0.00/349 [00:00<?, ?B/s]"
      ]
     },
     "metadata": {},
     "output_type": "display_data"
    },
    {
     "data": {
      "application/vnd.jupyter.widget-view+json": {
       "model_id": "3c68dd6f7ed14904b0799a3d510a0b93",
       "version_major": 2,
       "version_minor": 0
      },
      "text/plain": [
       "Downloading:   0%|          | 0.00/90.9M [00:00<?, ?B/s]"
      ]
     },
     "metadata": {},
     "output_type": "display_data"
    },
    {
     "data": {
      "application/vnd.jupyter.widget-view+json": {
       "model_id": "9ff0fa51264247ebaa22f030bf3da950",
       "version_major": 2,
       "version_minor": 0
      },
      "text/plain": [
       "Downloading:   0%|          | 0.00/53.0 [00:00<?, ?B/s]"
      ]
     },
     "metadata": {},
     "output_type": "display_data"
    },
    {
     "data": {
      "application/vnd.jupyter.widget-view+json": {
       "model_id": "ea96b3c583904fa2a85a81e3dd1bfb2f",
       "version_major": 2,
       "version_minor": 0
      },
      "text/plain": [
       "Downloading:   0%|          | 0.00/112 [00:00<?, ?B/s]"
      ]
     },
     "metadata": {},
     "output_type": "display_data"
    },
    {
     "data": {
      "application/vnd.jupyter.widget-view+json": {
       "model_id": "26b0efebfbc548a69947121a3db72e42",
       "version_major": 2,
       "version_minor": 0
      },
      "text/plain": [
       "Downloading:   0%|          | 0.00/466k [00:00<?, ?B/s]"
      ]
     },
     "metadata": {},
     "output_type": "display_data"
    },
    {
     "data": {
      "application/vnd.jupyter.widget-view+json": {
       "model_id": "5b4cfa2dcd1f4db4b30bb2353cc2cab1",
       "version_major": 2,
       "version_minor": 0
      },
      "text/plain": [
       "Downloading:   0%|          | 0.00/350 [00:00<?, ?B/s]"
      ]
     },
     "metadata": {},
     "output_type": "display_data"
    },
    {
     "data": {
      "application/vnd.jupyter.widget-view+json": {
       "model_id": "cee1b3680c9f46febcad30fcb3d9d03c",
       "version_major": 2,
       "version_minor": 0
      },
      "text/plain": [
       "Downloading:   0%|          | 0.00/13.2k [00:00<?, ?B/s]"
      ]
     },
     "metadata": {},
     "output_type": "display_data"
    },
    {
     "data": {
      "application/vnd.jupyter.widget-view+json": {
       "model_id": "ab79f1610df54964ae1ea62a6160cc46",
       "version_major": 2,
       "version_minor": 0
      },
      "text/plain": [
       "Downloading:   0%|          | 0.00/232k [00:00<?, ?B/s]"
      ]
     },
     "metadata": {},
     "output_type": "display_data"
    },
    {
     "data": {
      "application/vnd.jupyter.widget-view+json": {
       "model_id": "6beb9e35b85d4ffd80f31cbc93bcd2d3",
       "version_major": 2,
       "version_minor": 0
      },
      "text/plain": [
       "Downloading:   0%|          | 0.00/190 [00:00<?, ?B/s]"
      ]
     },
     "metadata": {},
     "output_type": "display_data"
    }
   ],
   "source": [
    "from sentence_transformers import SentenceTransformer\n",
    "model = SentenceTransformer('all-MiniLM-L6-v2')"
   ]
  },
  {
   "cell_type": "code",
   "execution_count": 19,
   "metadata": {},
   "outputs": [],
   "source": [
    "sentences = [\"added path /home/alex/epaa/youtube\",\n",
    "            \"added path /home/elias/epaa/youtube\",\n",
    "            \"added path /home/pau/mierda/twitch\",\n",
    "            \"added path homepaumierdatwitch\",\n",
    "            \"fixed readme bugs\",\n",
    "            \"fixed readme\"]\n",
    "sentence_embeddings = model.encode(sentences)"
   ]
  },
  {
   "cell_type": "code",
   "execution_count": null,
   "metadata": {},
   "outputs": [],
   "source": []
  },
  {
   "cell_type": "code",
   "execution_count": 20,
   "metadata": {
    "scrolled": false
   },
   "outputs": [
    {
     "name": "stdout",
     "output_type": "stream",
     "text": [
      "cos_sim :  0.08827773\n"
     ]
    }
   ],
   "source": [
    "from numpy import dot\n",
    "from numpy.linalg import norm\n",
    "\n",
    "a = sentence_embeddings[2]\n",
    "b = sentence_embeddings[4]\n",
    "\n",
    "cos_sim = dot(a, b)/(norm(a)*norm(b))\n",
    "print(\"cos_sim : \",cos_sim)"
   ]
  },
  {
   "cell_type": "code",
   "execution_count": null,
   "metadata": {},
   "outputs": [],
   "source": []
  },
  {
   "cell_type": "code",
   "execution_count": 6,
   "metadata": {
    "scrolled": false
   },
   "outputs": [
    {
     "name": "stdout",
     "output_type": "stream",
     "text": [
      "Sentence: added path https://www.youtube.com/watch?v=SWOz-kIwDuU\n",
      "Embedding: [ 1.43619804e-02 -8.72330591e-02 -7.50683248e-02 -3.12573314e-02\n",
      "  3.40632312e-02  6.37390688e-02 -3.60309482e-02 -3.08590401e-02\n",
      "  2.39187386e-02 -1.40047511e-02  2.77203564e-02  1.64760537e-02\n",
      " -3.22626755e-02  7.76791275e-02 -4.19769995e-02  3.07019893e-02\n",
      " -8.86909722e-04  5.14719747e-02  1.54096829e-02 -1.87490135e-02\n",
      "  5.95631972e-02 -6.48318231e-03  5.84969781e-02 -6.24039955e-03\n",
      " -7.13407528e-03 -3.56734470e-02  1.79132018e-02  4.31912206e-02\n",
      "  4.41286899e-02 -3.29703093e-02  3.51000465e-02  6.60010725e-02\n",
      " -5.05037829e-02 -5.28153144e-02  2.97974367e-02 -8.08028318e-03\n",
      "  3.03648319e-02  2.02251896e-02  1.91464517e-02  3.40446308e-02\n",
      "  4.70830053e-02 -1.78674031e-02  1.03460141e-01 -3.51109169e-02\n",
      " -4.47519422e-02 -4.91699949e-02  2.91942209e-02 -1.29881620e-01\n",
      "  4.06412818e-02  2.62870174e-02 -4.06031981e-02 -7.39433318e-02\n",
      " -6.36076108e-02 -1.42126456e-02 -2.35789027e-02 -2.43551079e-02\n",
      "  2.06379220e-02  4.81292196e-02  4.51176129e-02 -3.39162163e-02\n",
      "  9.53223184e-02 -3.29373255e-02  2.43475884e-02  3.24186794e-02\n",
      "  2.09120978e-02 -1.07787676e-01 -4.60782610e-02  4.84846969e-05\n",
      " -6.04027091e-03  1.21285012e-02  6.16465732e-02  2.60716528e-02\n",
      " -6.55355752e-02 -3.62335220e-02 -3.84080186e-02 -5.57089364e-03\n",
      "  2.16998383e-02  4.33949903e-02 -5.03118150e-02 -7.29448870e-02\n",
      " -8.87456164e-03 -1.41760428e-02 -1.36162632e-03  5.92828654e-02\n",
      "  1.08820893e-01 -1.58613883e-02  2.27559414e-02 -1.01638973e-01\n",
      "  2.19227225e-02  1.99637488e-02  4.05738056e-02 -3.44901383e-02\n",
      "  1.64033137e-02 -5.96252084e-02 -2.35986467e-02 -4.37964983e-02\n",
      " -4.94463257e-02 -2.69769859e-02 -8.73682369e-03  4.56988700e-02\n",
      " -3.19352932e-02 -4.56653833e-02  2.86920113e-03  1.41863339e-02\n",
      "  5.58022857e-02  7.36706555e-02 -1.45251155e-02  1.08749263e-01\n",
      " -4.18511853e-02  3.74838971e-02  1.92542914e-02  7.45829137e-04\n",
      "  7.73631930e-02  1.01089403e-02  4.81366813e-02 -2.76239626e-02\n",
      " -9.20856223e-02 -1.74178288e-03 -6.39459938e-02  1.10727258e-01\n",
      "  4.21368815e-02 -7.27008134e-02 -2.98433863e-02 -9.23679024e-03\n",
      " -1.21338917e-02 -9.52151120e-02  1.13462899e-02 -3.30261787e-33\n",
      "  4.25317958e-02 -6.08910201e-03  1.71701200e-02 -8.00927207e-02\n",
      "  1.48991391e-01 -5.79729415e-02 -9.27473307e-02  4.84787412e-02\n",
      " -8.62789378e-02  2.70584715e-03 -8.89510964e-04 -2.30307765e-02\n",
      " -3.36251706e-02 -5.78346942e-03 -3.89655828e-02 -1.13516048e-01\n",
      " -1.22273704e-02 -8.87822639e-03 -2.77612302e-02  5.81047162e-02\n",
      "  1.32140284e-02  8.50178525e-02 -1.61411380e-03 -6.23010024e-02\n",
      "  1.40370876e-02 -1.09048830e-02  7.14840963e-02 -3.00095677e-02\n",
      "  5.29393516e-02  2.87974160e-02 -3.78822647e-02 -5.87866716e-02\n",
      " -2.55596843e-02  7.38488957e-02 -2.91763358e-02  5.29029258e-02\n",
      " -1.44661535e-02 -3.90742235e-02 -1.52516747e-02 -1.50863333e-02\n",
      "  3.72902490e-02 -2.22579371e-02 -6.05728216e-02  2.12334692e-02\n",
      " -4.31618318e-02  5.20149060e-02  2.23206468e-02 -2.68431194e-02\n",
      "  2.39275731e-02  1.75878014e-02 -6.86684847e-02  1.51033802e-02\n",
      " -6.43244886e-04  2.11768895e-02 -3.48545574e-02 -2.76684463e-02\n",
      " -3.46011221e-02 -3.32238302e-02 -1.12113599e-02  3.94769050e-02\n",
      "  5.11833802e-02  6.49376810e-02  1.96008980e-02 -3.12913470e-02\n",
      " -6.22529835e-02 -8.20226967e-02  2.93197725e-02  4.13801745e-02\n",
      "  7.46948794e-02  1.24644842e-02 -4.63802814e-02 -8.28758907e-03\n",
      "  6.78015649e-02  3.06652021e-02  2.11035796e-02 -7.99368843e-02\n",
      " -1.15770623e-01 -4.60105687e-02  5.54460334e-03 -4.36301827e-02\n",
      " -1.48737922e-01 -6.96565583e-02 -6.03141170e-03 -8.92417738e-04\n",
      "  1.07050978e-01 -1.98162068e-02 -6.72461987e-02 -6.11420535e-02\n",
      "  1.07134897e-02 -8.23330879e-02 -4.10239436e-02 -1.03139440e-02\n",
      "  8.78280401e-03  5.50049841e-02 -9.05243959e-03  1.62446468e-33\n",
      "  4.06461097e-02  1.80646162e-02  1.19667485e-01  4.86689769e-02\n",
      "  8.18315987e-03  7.23920092e-02  4.19193171e-02 -2.59996150e-02\n",
      "  7.83354938e-02  2.37663314e-02 -6.30118027e-02  4.92316298e-02\n",
      " -8.65417812e-03  6.01625293e-02  4.24139425e-02 -9.12595391e-02\n",
      "  2.32551303e-02  2.54334453e-02 -4.78632301e-02 -4.58346792e-02\n",
      " -4.20602746e-02  6.55829161e-03  1.01835383e-02 -3.03756930e-02\n",
      " -1.26458118e-02  4.53646434e-03  6.82698712e-02  6.20856248e-02\n",
      " -1.78618506e-02  7.58371362e-03 -9.73402243e-03 -7.94665422e-03\n",
      " -1.46790728e-01 -6.12907223e-02 -8.09309538e-03  7.56862760e-02\n",
      "  9.19024870e-02  9.36689600e-02 -4.36875001e-02 -8.84897485e-02\n",
      "  7.97849074e-02  2.04478651e-02  5.09277098e-02  9.67454910e-02\n",
      "  1.03565557e-02  5.68116754e-02  2.20124424e-02  7.04436675e-02\n",
      " -6.19400218e-02  1.16257155e-02  7.49287829e-02  1.50996144e-03\n",
      " -2.35889805e-03 -1.07690282e-02  4.98989671e-02  2.86724772e-02\n",
      " -4.80696894e-02 -1.23546217e-02  4.62889597e-02 -3.12902890e-02\n",
      " -2.59799100e-02  6.92122281e-02 -6.44735321e-02 -7.18121380e-02\n",
      "  9.32429358e-03  4.26797522e-03  1.03733763e-02  3.33698727e-02\n",
      " -1.16353408e-01 -4.15811203e-02 -5.62824048e-02  6.07906207e-02\n",
      " -3.58165801e-02 -1.06478091e-02  5.47984019e-02 -3.54838893e-02\n",
      "  5.67715317e-02 -5.73448539e-02  5.88282272e-02 -6.99444413e-02\n",
      " -5.47678303e-03 -2.87595894e-02 -9.57745016e-02 -3.48832123e-02\n",
      "  7.39298537e-02  7.58098811e-02  4.75613680e-03  5.17051481e-02\n",
      "  4.61982563e-02  6.71594068e-02  3.45610525e-03  9.58423391e-02\n",
      " -3.81064154e-02 -1.07769109e-02 -8.78075063e-02 -3.18773736e-08\n",
      " -2.86673233e-02  3.06636523e-02 -1.11592198e-02 -1.91757120e-02\n",
      "  7.48060346e-02 -1.44403037e-02  9.58418399e-02  1.58146687e-03\n",
      " -2.01179311e-02  2.52058525e-02  7.24605247e-02  4.94603887e-02\n",
      " -1.73142720e-02  1.28174841e-01 -5.03925197e-02 -4.60328422e-02\n",
      " -3.89861837e-02  8.39359313e-02 -4.66772530e-04 -7.85771478e-03\n",
      "  1.20727357e-03  3.46697457e-02  2.49905363e-02  5.71911689e-03\n",
      " -1.91868991e-02 -1.46900993e-02 -4.39889766e-02 -2.15650611e-02\n",
      " -4.46420796e-02 -1.54735418e-02  1.58036947e-02  6.11427203e-02\n",
      " -6.04081117e-02  9.05249789e-02 -4.55971472e-02 -2.69651357e-02\n",
      "  2.25646999e-02  9.16071236e-02 -4.66719531e-02  4.54733931e-02\n",
      "  6.37723580e-02  2.68299952e-02  1.48123771e-01  7.03361724e-03\n",
      " -5.03999181e-02  1.33376131e-02  7.76295783e-04 -1.97868925e-02\n",
      " -3.89273576e-02 -4.59753908e-02 -7.10047632e-02 -5.52438274e-02\n",
      " -6.47613220e-03 -1.27608487e-02  1.73580907e-02  9.75426733e-02\n",
      " -5.14843781e-03 -5.09532951e-02 -6.86080605e-02  1.23314202e-01\n",
      "  2.20256951e-02 -2.71012988e-02 -1.04663419e-02 -2.93460209e-02]\n",
      "(384,)\n",
      "\n"
     ]
    }
   ],
   "source": [
    "for sentence, embedding in zip(sentences, sentence_embeddings):\n",
    "    print(\"Sentence:\", sentence)\n",
    "    print(\"Embedding:\", embedding)\n",
    "    print(embedding.shape)\n",
    "    print(\"\")"
   ]
  },
  {
   "cell_type": "code",
   "execution_count": null,
   "metadata": {},
   "outputs": [],
   "source": [
    "# Para guardar los embeddings en local\n",
    "\"\"\"\n",
    "\n",
    "from simple_elmo import ElmoModel\n",
    "import pandas as pd\n",
    "import numpy as np\n",
    "from tqdm import tqdm\n",
    "\n",
    "model = ElmoModel()\n",
    "\n",
    "model.load('models/193.zip')\n",
    "final_db = pd.read_csv('data/processed/predictionDB.csv',lineterminator='\\n')\n",
    "\n",
    "nrows = final_db.shape[0]\n",
    "\n",
    "for index,row in tqdm(final_db.iterrows()):\n",
    "    frases = row['COMMIT_MESSAGE']\n",
    "    matrix = model.get_elmo_vectors(frases).mean(axis = 0)\n",
    "    np.save(f'data/processed/embeddings/' + row['COMMIT_HASH'] + '.npy',matrix)\n",
    "\n",
    "\"\"\""
   ]
  }
 ],
 "metadata": {
  "kernelspec": {
   "display_name": "Python 3",
   "language": "python",
   "name": "python3"
  },
  "language_info": {
   "codemirror_mode": {
    "name": "ipython",
    "version": 3
   },
   "file_extension": ".py",
   "mimetype": "text/x-python",
   "name": "python",
   "nbconvert_exporter": "python",
   "pygments_lexer": "ipython3",
   "version": "3.7.0"
  }
 },
 "nbformat": 4,
 "nbformat_minor": 4
}
